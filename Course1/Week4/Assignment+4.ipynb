{
 "cells": [
  {
   "cell_type": "markdown",
   "metadata": {},
   "source": [
    "---\n",
    "\n",
    "_You are currently looking at **version 1.1** of this notebook. To download notebooks and datafiles, as well as get help on Jupyter notebooks in the Coursera platform, visit the [Jupyter Notebook FAQ](https://www.coursera.org/learn/python-data-analysis/resources/0dhYG) course resource._\n",
    "\n",
    "---"
   ]
  },
  {
   "cell_type": "code",
   "execution_count": 1,
   "metadata": {
    "collapsed": true
   },
   "outputs": [],
   "source": [
    "import pandas as pd\n",
    "import numpy as np\n",
    "from scipy.stats import ttest_ind"
   ]
  },
  {
   "cell_type": "markdown",
   "metadata": {},
   "source": [
    "# Assignment 4 - Hypothesis Testing\n",
    "This assignment requires more individual learning than previous assignments - you are encouraged to check out the [pandas documentation](http://pandas.pydata.org/pandas-docs/stable/) to find functions or methods you might not have used yet, or ask questions on [Stack Overflow](http://stackoverflow.com/) and tag them as pandas and python related. And of course, the discussion forums are open for interaction with your peers and the course staff.\n",
    "\n",
    "Definitions:\n",
    "* A _quarter_ is a specific three month period, Q1 is January through March, Q2 is April through June, Q3 is July through September, Q4 is October through December.\n",
    "* A _recession_ is defined as starting with two consecutive quarters of GDP decline, and ending with two consecutive quarters of GDP growth.\n",
    "* A _recession bottom_ is the quarter within a recession which had the lowest GDP.\n",
    "* A _university town_ is a city which has a high percentage of university students compared to the total population of the city.\n",
    "\n",
    "**Hypothesis**: University towns have their mean housing prices less effected by recessions. Run a t-test to compare the ratio of the mean price of houses in university towns the quarter before the recession starts compared to the recession bottom. (`price_ratio=quarter_before_recession/recession_bottom`)\n",
    "\n",
    "The following data files are available for this assignment:\n",
    "* From the [Zillow research data site](http://www.zillow.com/research/data/) there is housing data for the United States. In particular the datafile for [all homes at a city level](http://files.zillowstatic.com/research/public/City/City_Zhvi_AllHomes.csv), ```City_Zhvi_AllHomes.csv```, has median home sale prices at a fine grained level.\n",
    "* From the Wikipedia page on college towns is a list of [university towns in the United States](https://en.wikipedia.org/wiki/List_of_college_towns#College_towns_in_the_United_States) which has been copy and pasted into the file ```university_towns.txt```.\n",
    "* From Bureau of Economic Analysis, US Department of Commerce, the [GDP over time](http://www.bea.gov/national/index.htm#gdp) of the United States in current dollars (use the chained value in 2009 dollars), in quarterly intervals, in the file ```gdplev.xls```. For this assignment, only look at GDP data from the first quarter of 2000 onward.\n",
    "\n",
    "Each function in this assignment below is worth 10%, with the exception of ```run_ttest()```, which is worth 50%."
   ]
  },
  {
   "cell_type": "code",
   "execution_count": 2,
   "metadata": {
    "collapsed": false
   },
   "outputs": [],
   "source": [
    "# Use this dictionary to map state names to two letter acronyms\n",
    "states = {'OH': 'Ohio', 'KY': 'Kentucky', 'AS': 'American Samoa', 'NV': 'Nevada', 'WY': 'Wyoming', 'NA': 'National', 'AL': 'Alabama', 'MD': 'Maryland', 'AK': 'Alaska', 'UT': 'Utah', 'OR': 'Oregon', 'MT': 'Montana', 'IL': 'Illinois', 'TN': 'Tennessee', 'DC': 'District of Columbia', 'VT': 'Vermont', 'ID': 'Idaho', 'AR': 'Arkansas', 'ME': 'Maine', 'WA': 'Washington', 'HI': 'Hawaii', 'WI': 'Wisconsin', 'MI': 'Michigan', 'IN': 'Indiana', 'NJ': 'New Jersey', 'AZ': 'Arizona', 'GU': 'Guam', 'MS': 'Mississippi', 'PR': 'Puerto Rico', 'NC': 'North Carolina', 'TX': 'Texas', 'SD': 'South Dakota', 'MP': 'Northern Mariana Islands', 'IA': 'Iowa', 'MO': 'Missouri', 'CT': 'Connecticut', 'WV': 'West Virginia', 'SC': 'South Carolina', 'LA': 'Louisiana', 'KS': 'Kansas', 'NY': 'New York', 'NE': 'Nebraska', 'OK': 'Oklahoma', 'FL': 'Florida', 'CA': 'California', 'CO': 'Colorado', 'PA': 'Pennsylvania', 'DE': 'Delaware', 'NM': 'New Mexico', 'RI': 'Rhode Island', 'MN': 'Minnesota', 'VI': 'Virgin Islands', 'NH': 'New Hampshire', 'MA': 'Massachusetts', 'GA': 'Georgia', 'ND': 'North Dakota', 'VA': 'Virginia'}"
   ]
  },
  {
   "cell_type": "code",
   "execution_count": 3,
   "metadata": {
    "collapsed": false
   },
   "outputs": [],
   "source": [
    "import re\n",
    "def clean_region(text):\n",
    "    text = re.sub(\"\\[.*\\]\",\"\",text)\n",
    "    text = re.sub(\"\\(.*\",\"\",text)\n",
    "    text = text.rstrip()\n",
    "    return text\n",
    "\n",
    "def clean_state(state):\n",
    "    state = re.sub(\"\\[.*\\]\",\"\",state)\n",
    "    state = state.rstrip()\n",
    "    return state\n",
    "\n",
    "    \n",
    "def get_list_of_university_towns():\n",
    "    '''Returns a DataFrame of towns and the states they are in from the \n",
    "    university_towns.txt list. The format of the DataFrame should be:\n",
    "    DataFrame( [ [\"Michigan\", \"Ann Arbor\"], [\"Michigan\", \"Yipsilanti\"] ], \n",
    "    columns=[\"State\", \"RegionName\"]  )\n",
    "    \n",
    "    The following cleaning needs to be done:\n",
    "\n",
    "    1. For \"State\", removing characters from \"[\" to the end.\n",
    "    2. For \"RegionName\", when applicable, removing every character from \" (\" to the end.\n",
    "    3. Depending on how you read the data, you may need to remove newline character '\\n'. '''\n",
    "    \n",
    "    university_towns = []\n",
    "    state = None\n",
    "    with open('university_towns.txt') as file:\n",
    "        for line in file:\n",
    "            if line.find(\"[edit]\") > -1:\n",
    "                state = clean_state(line)\n",
    "            else:\n",
    "                region = clean_region(line)\n",
    "                university_towns.append((state,region))\n",
    "    df = pd.DataFrame(university_towns,columns=['State','RegionName'])\n",
    "    return df\n"
   ]
  },
  {
   "cell_type": "code",
   "execution_count": 4,
   "metadata": {
    "collapsed": false,
    "scrolled": true
   },
   "outputs": [
    {
     "data": {
      "text/plain": [
       "'2008q3'"
      ]
     },
     "execution_count": 4,
     "metadata": {},
     "output_type": "execute_result"
    }
   ],
   "source": [
    "def set_change(row):\n",
    "    if row['GDP'] >= row['GDP'].shift(-1):\n",
    "        row['GDP_CHANGE'] = 'INCREASE'\n",
    "    else:\n",
    "        row['GDP_CHANGE'] = 'DECREASE'\n",
    "    return row\n",
    "    \n",
    "\n",
    "gd_plev = pd.read_excel('gdplev.xls',skiprows=[0,1,2,3,4,5,6])\n",
    "gd_plev.rename(columns={'Unnamed: 4':'Quarter','Unnamed: 6':'GDP'},inplace=True)\n",
    "\n",
    "gd_plev = gd_plev[['Quarter','GDP']]\n",
    "\n",
    "gd_plev = gd_plev.iloc[212:]\n",
    "gd_plev.reset_index(inplace=True)\n",
    "gd_plev['GDP'].astype(float)\n",
    "gd_plev = gd_plev[['Quarter','GDP']]\n",
    "\n",
    "gd_plev['GDP_CHANGE'] = ''\n",
    "\n",
    "\n",
    "for i in range(1,len(gd_plev)):\n",
    "    prev_value = gd_plev.iloc[i-1]['GDP']\n",
    "    new_value = gd_plev.iloc[i]['GDP']\n",
    "    if new_value >= prev_value:\n",
    "        gd_plev.iloc[i,2] = \"INCREASE\"\n",
    "    else:\n",
    "        gd_plev.iloc[i,2] = \"DECREASE\"\n",
    "# print(gd_plev.head())\n",
    "\n",
    "def get_recession_start():\n",
    "    '''Returns the year and quarter of the recession start time as a \n",
    "    string value in a format such as 2005q3'''\n",
    "    state = None\n",
    "    for i in range(1,len(gd_plev)-4):\n",
    "        current = gd_plev.iloc[i,2]\n",
    "        current_1 = gd_plev.iloc[i+1,2]\n",
    "        if current == \"DECREASE\" and current_1 == \"DECREASE\":\n",
    "            state = gd_plev.iloc[i,0]\n",
    "            break\n",
    "    return state\n",
    "\n",
    "get_recession_start()"
   ]
  },
  {
   "cell_type": "code",
   "execution_count": 5,
   "metadata": {
    "collapsed": false
   },
   "outputs": [
    {
     "data": {
      "text/plain": [
       "'2009q4'"
      ]
     },
     "execution_count": 5,
     "metadata": {},
     "output_type": "execute_result"
    }
   ],
   "source": [
    "def get_recession_end():\n",
    "    '''Returns the year and quarter of the recession end time as a \n",
    "    string value in a format such as 2005q3'''\n",
    "    state = None\n",
    "    start = get_recession_start()\n",
    "    start = gd_plev[gd_plev['Quarter']==start].index[0]\n",
    "    for i in range(start,len(gd_plev)-2):\n",
    "        current = gd_plev.iloc[i,2]\n",
    "        current_1 = gd_plev.iloc[i+1,2]\n",
    "        if current == \"INCREASE\" and current_1 == \"INCREASE\":\n",
    "            state = gd_plev.iloc[i+1,0]\n",
    "            break\n",
    "    return state\n",
    "\n",
    "get_recession_end()"
   ]
  },
  {
   "cell_type": "code",
   "execution_count": 6,
   "metadata": {
    "collapsed": false
   },
   "outputs": [
    {
     "data": {
      "text/plain": [
       "'2009q2'"
      ]
     },
     "execution_count": 6,
     "metadata": {},
     "output_type": "execute_result"
    }
   ],
   "source": [
    "def get_recession_bottom():\n",
    "    '''Returns the year and quarter of the recession bottom time as a \n",
    "    string value in a format such as 2005q3'''\n",
    "    start = get_recession_start()\n",
    "    index_start = gd_plev[gd_plev['Quarter']==start].index[0]\n",
    "    end = get_recession_end()\n",
    "    index_end = gd_plev[gd_plev['Quarter']==end].index[0]\n",
    "    min = gd_plev.iloc[index_start]['GDP']\n",
    "    min_index = index_start\n",
    "    for i in range(index_start+1,index_end+1):\n",
    "        gdp = gd_plev.iloc[i]['GDP']\n",
    "        if gdp < min:\n",
    "            min = gdp\n",
    "            min_index = i\n",
    "    return gd_plev.iloc[min_index,0]\n",
    "get_recession_bottom()"
   ]
  },
  {
   "cell_type": "code",
   "execution_count": 13,
   "metadata": {
    "collapsed": false
   },
   "outputs": [],
   "source": [
    "def generate_dict(housing_data):\n",
    "    dict = {}\n",
    "    start_index = housing_data.columns.get_loc('2000-01')\n",
    "    columns = housing_data.columns\n",
    "    for year in range(2000,2016):\n",
    "        for q in range(1,5):\n",
    "            key = str(year)+\"q\"+str(q)\n",
    "            arr = []\n",
    "            arr.append(columns[start_index])\n",
    "            arr.append(columns[start_index+1])\n",
    "            arr.append(columns[start_index+2])\n",
    "            start_index +=3\n",
    "            dict[key]=arr\n",
    "    dict['2016q1']=['2016-01','2016-02','2016-03']\n",
    "    dict['2016q2']=['2016-04','2016-05','2016-06']\n",
    "    dict['2016q3']=['2016-07','2016-08']\n",
    "    return dict\n",
    "def change_housing_state(row):\n",
    "    if row['State'] in states:\n",
    "        row['State'] = states[row['State']]\n",
    "    return row\n",
    "def convert_housing_data_to_quarters():\n",
    "    '''Converts the housing data to quarters and returns it as mean \n",
    "    values in a dataframe. This dataframe should be a dataframe with\n",
    "    columns for 2000q1 through 2016q3, and should have a multi-index\n",
    "    in the shape of [\"State\",\"RegionName\"].\n",
    "    \n",
    "    Note: Quarters are defined in the assignment description, they are\n",
    "    not arbitrary three month periods.\n",
    "    \n",
    "    The resulting dataframe should have 67 columns, and 10,730 rows.\n",
    "    '''\n",
    "    \n",
    "    housing_data = pd.read_csv('City_Zhvi_AllHomes.csv')\n",
    "    housing_data.drop(['RegionID','Metro','CountyName','SizeRank'],axis=1,inplace=True)\n",
    "    start_index = housing_data.columns.get_loc('1996-04')\n",
    "    end_index = housing_data.columns.get_loc('1999-12')\n",
    "#     print(str(start_index) + \" \" + str(end_index))\n",
    "    delete_list = []\n",
    "    for i in range(start_index,end_index+1):\n",
    "        delete_list.append(i)\n",
    "    housing_data.drop(housing_data.columns[delete_list],axis=1,inplace=True)\n",
    "    column_dict = generate_dict(housing_data)\n",
    "    housing_data = housing_data.apply(change_housing_state,axis=1)\n",
    "    for key,value in column_dict.items():\n",
    "        housing_data[key] = housing_data[column_dict[key]].mean(axis=1)\n",
    "        housing_data.drop(column_dict[key],axis=1,inplace=True)\n",
    "    housing_data = housing_data.set_index(['State','RegionName'])\n",
    "    return housing_data\n",
    "# convert_housing_data_to_quarters()"
   ]
  },
  {
   "cell_type": "code",
   "execution_count": 35,
   "metadata": {
    "collapsed": false
   },
   "outputs": [
    {
     "data": {
      "text/plain": [
       "tuple"
      ]
     },
     "execution_count": 35,
     "metadata": {},
     "output_type": "execute_result"
    }
   ],
   "source": [
    "import scipy.stats as stats\n",
    "def get_quarters():\n",
    "    arr = []\n",
    "    for year in range(2000,2016):\n",
    "        for q in range(1,5):\n",
    "            key = str(year)+\"q\"+str(q)\n",
    "            arr.append(key)\n",
    "    arr.append(\"2016q1\")\n",
    "    arr.append(\"2016q2\")\n",
    "    arr.append(\"2016q3\")\n",
    "    return arr\n",
    "def run_ttest():\n",
    "    '''First creates new data showing the decline or growth of housing prices\n",
    "    between the recession start and the recession bottom. Then runs a ttest\n",
    "    comparing the university town values to the non-university towns values, \n",
    "    return whether the alternative hypothesis (that the two groups are the same)\n",
    "    is true or not as well as the p-value of the confidence. \n",
    "    \n",
    "    Return the tuple (different, p, better) where different=True if the t-test is\n",
    "    True at a p<0.01 (we reject the null hypothesis), or different=False if \n",
    "    otherwise (we cannot reject the null hypothesis). The variable p should\n",
    "    be equal to the exact p value returned from scipy.stats.ttest_ind(). The\n",
    "    value for better should be either \"university town\" or \"non-university town\"\n",
    "    depending on which has a lower mean price ratio (which is equivilent to a\n",
    "    reduced market loss).'''\n",
    "    housing_data = convert_housing_data_to_quarters()\n",
    "    universities = get_list_of_university_towns().to_records(index=False).tolist()\n",
    "    recession_start = '2008q2'\n",
    "    recession_bottom = get_recession_bottom()\n",
    "    housing_data['Price_Ratio'] = housing_data[recession_start].div(housing_data[recession_bottom])\n",
    "    housing_data_university = housing_data.loc[universities]\n",
    "    housing_data_nu = housing_data.loc[~housing_data.index.isin(universities)]\n",
    "    mean_u = housing_data_university['Price_Ratio'].mean()\n",
    "    mean_nu = housing_data_nu['Price_Ratio'].mean()\n",
    "    better = None\n",
    "    if mean_u<mean_nu:\n",
    "        better = \"university town\"\n",
    "    else:\n",
    "        better = \"non-university town\"\n",
    "    statistics, pValue = stats.ttest_ind(housing_data_university['Price_Ratio'], housing_data_nu['Price_Ratio'],nan_policy='omit')\n",
    "    if pValue <0.01:\n",
    "        return (True,pValue,better)\n",
    "    else:\n",
    "        return (False,pValue,better)\n",
    "type(run_ttest())"
   ]
  },
  {
   "cell_type": "code",
   "execution_count": null,
   "metadata": {
    "collapsed": true
   },
   "outputs": [],
   "source": []
  }
 ],
 "metadata": {
  "coursera": {
   "course_slug": "python-data-analysis",
   "graded_item_id": "Il9Fx",
   "launcher_item_id": "TeDW0",
   "part_id": "WGlun"
  },
  "kernelspec": {
   "display_name": "Python 3",
   "language": "python",
   "name": "python3"
  },
  "language_info": {
   "codemirror_mode": {
    "name": "ipython",
    "version": 3
   },
   "file_extension": ".py",
   "mimetype": "text/x-python",
   "name": "python",
   "nbconvert_exporter": "python",
   "pygments_lexer": "ipython3",
   "version": "3.5.2"
  }
 },
 "nbformat": 4,
 "nbformat_minor": 0
}
